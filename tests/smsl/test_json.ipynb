{
 "cells": [
  {
   "cell_type": "code",
   "execution_count": 4,
   "id": "1bded3f0",
   "metadata": {},
   "outputs": [
    {
     "name": "stdout",
     "output_type": "stream",
     "text": [
      "{'_comments': {'HEADER': 'NAME the name of the SB', 'INITIAL': 'the initial state of the SB', 'ACTIVATING': 'the activating state of the SB (required for higher level SB)', 'NUM_FACT': 'the number of facts (state digits)', 'SUB_SB': 'the higher level SB it contains'}, 'SB1': {'HEADER': {'NAME': 'SB1', 'INITIAL': 'State000', 'NUM_FACT': 3, 'SUB_SB': {'SB2': 0}}, 'State000': [{'Operation000': 'State100'}], 'State100': [{'Operation100A': 'State110'}, {'Operation100B': 'State111'}], 'State110': [{'Operation110A': 'State100'}, {'Operation110B': 'State111'}], 'State111': []}, 'SB2': {'HEADER': {'NAME': 'SB2', 'INITIAL': 'State0', 'ACTIVATING': 'State1', 'NUM_FACT': 1}, 'State0': [{'Operation0': 'State1'}], 'State1': [{'Operation1': 'State0'}]}}\n"
     ]
    }
   ],
   "source": [
    "import sys\n",
    "sys.path.append('../../src/smsl/')\n",
    "import smsl\n",
    "\n",
    "sm = smsl.smslStateMachine('../../examples/example.json')"
   ]
  },
  {
   "cell_type": "code",
   "execution_count": null,
   "id": "34b31056",
   "metadata": {},
   "outputs": [],
   "source": []
  }
 ],
 "metadata": {
  "kernelspec": {
   "display_name": "Python 3 (ipykernel)",
   "language": "python",
   "name": "python3"
  },
  "language_info": {
   "codemirror_mode": {
    "name": "ipython",
    "version": 3
   },
   "file_extension": ".py",
   "mimetype": "text/x-python",
   "name": "python",
   "nbconvert_exporter": "python",
   "pygments_lexer": "ipython3",
   "version": "3.11.5"
  }
 },
 "nbformat": 4,
 "nbformat_minor": 5
}
