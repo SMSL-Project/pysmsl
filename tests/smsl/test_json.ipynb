{
 "cells": [
  {
   "cell_type": "code",
   "execution_count": 1,
   "id": "6525cb90",
   "metadata": {},
   "outputs": [
    {
     "ename": "AssertionError",
     "evalue": "Start state has to be smslState.",
     "output_type": "error",
     "traceback": [
      "\u001b[0;31m---------------------------------------------------------------------------\u001b[0m",
      "\u001b[0;31mAssertionError\u001b[0m                            Traceback (most recent call last)",
      "Cell \u001b[0;32mIn[1], line 5\u001b[0m\n\u001b[1;32m      2\u001b[0m sys\u001b[38;5;241m.\u001b[39mpath\u001b[38;5;241m.\u001b[39mappend(\u001b[38;5;124m'\u001b[39m\u001b[38;5;124m../../src/smsl/\u001b[39m\u001b[38;5;124m'\u001b[39m)\n\u001b[1;32m      3\u001b[0m \u001b[38;5;28;01mimport\u001b[39;00m \u001b[38;5;21;01msmsl\u001b[39;00m\n\u001b[0;32m----> 5\u001b[0m sm \u001b[38;5;241m=\u001b[39m smsl\u001b[38;5;241m.\u001b[39msmslStateMachine(\u001b[38;5;124m'\u001b[39m\u001b[38;5;124m../../examples/example.json\u001b[39m\u001b[38;5;124m'\u001b[39m)\n",
      "File \u001b[0;32m~/Downloads/software/pysmsl/tests/smsl/../../src/smsl/smsl.py:41\u001b[0m, in \u001b[0;36msmslStateMachine.__init__\u001b[0;34m(self, file_path)\u001b[0m\n\u001b[1;32m     36\u001b[0m \u001b[38;5;28;01melse\u001b[39;00m:\n\u001b[1;32m     37\u001b[0m     \u001b[38;5;28;01mraise\u001b[39;00m smslFileNotSupportedError(\n\u001b[1;32m     38\u001b[0m         \u001b[38;5;124mf\u001b[39m\u001b[38;5;124m\"\u001b[39m\u001b[38;5;132;01m{\u001b[39;00mfile_path\u001b[38;5;241m.\u001b[39msuffix\u001b[38;5;132;01m}\u001b[39;00m\u001b[38;5;124m files are not supported.\u001b[39m\u001b[38;5;124m\"\u001b[39m\n\u001b[1;32m     39\u001b[0m     )\n\u001b[0;32m---> 41\u001b[0m \u001b[38;5;28mself\u001b[39m\u001b[38;5;241m.\u001b[39m_process_file_data(file_data)\n",
      "File \u001b[0;32m~/Downloads/software/pysmsl/tests/smsl/../../src/smsl/smsl.py:46\u001b[0m, in \u001b[0;36msmslStateMachine._process_file_data\u001b[0;34m(self, file_data)\u001b[0m\n\u001b[1;32m     44\u001b[0m d_type, d_data \u001b[38;5;241m=\u001b[39m file_data[\u001b[38;5;124m\"\u001b[39m\u001b[38;5;124mTYPE\u001b[39m\u001b[38;5;124m\"\u001b[39m], file_data[\u001b[38;5;124m\"\u001b[39m\u001b[38;5;124mDATA\u001b[39m\u001b[38;5;124m\"\u001b[39m]\n\u001b[1;32m     45\u001b[0m \u001b[38;5;28;01mif\u001b[39;00m d_type \u001b[38;5;241m==\u001b[39m \u001b[38;5;124m\"\u001b[39m\u001b[38;5;124mJSON\u001b[39m\u001b[38;5;124m\"\u001b[39m:\n\u001b[0;32m---> 46\u001b[0m     sb_list \u001b[38;5;241m=\u001b[39m smsl_json\u001b[38;5;241m.\u001b[39mprocess_file_data(d_data)\n\u001b[1;32m     47\u001b[0m \u001b[38;5;28;01melif\u001b[39;00m d_type \u001b[38;5;241m==\u001b[39m \u001b[38;5;124m\"\u001b[39m\u001b[38;5;124mYAML\u001b[39m\u001b[38;5;124m\"\u001b[39m:\n\u001b[1;32m     48\u001b[0m     sb_list \u001b[38;5;241m=\u001b[39m smsl_yaml\u001b[38;5;241m.\u001b[39mprocess_file_data(d_data)\n",
      "File \u001b[0;32m~/Downloads/software/pysmsl/tests/smsl/../../src/smsl/smsl_json.py:25\u001b[0m, in \u001b[0;36mprocess_file_data\u001b[0;34m(json_data)\u001b[0m\n\u001b[1;32m     21\u001b[0m \u001b[38;5;28;01melse\u001b[39;00m:\n\u001b[1;32m     22\u001b[0m     initial, activating, num_facts, _sub_sbs \u001b[38;5;241m=\u001b[39m \\\n\u001b[1;32m     23\u001b[0m         process_file_data_sb_header(new_sb_entry[\u001b[38;5;124m'\u001b[39m\u001b[38;5;124mHEADER\u001b[39m\u001b[38;5;124m'\u001b[39m])\n\u001b[1;32m     24\u001b[0m     states, operations \u001b[38;5;241m=\u001b[39m \\\n\u001b[0;32m---> 25\u001b[0m         process_file_data_sb_states(new_sb_entry)\n\u001b[1;32m     26\u001b[0m     new_sb \u001b[38;5;241m=\u001b[39m smslStateBranch(\n\u001b[1;32m     27\u001b[0m         new_sb_name, \n\u001b[1;32m     28\u001b[0m         initial, \n\u001b[0;32m   (...)\u001b[0m\n\u001b[1;32m     35\u001b[0m         _sub_sbs\n\u001b[1;32m     36\u001b[0m     )\n\u001b[1;32m     37\u001b[0m     sb_list\u001b[38;5;241m.\u001b[39mappend(new_sb)\n",
      "File \u001b[0;32m~/Downloads/software/pysmsl/tests/smsl/../../src/smsl/smsl_json.py:71\u001b[0m, in \u001b[0;36mprocess_file_data_sb_states\u001b[0;34m(sb_data)\u001b[0m\n\u001b[1;32m     69\u001b[0m         \u001b[38;5;28;01mcontinue\u001b[39;00m\n\u001b[1;32m     70\u001b[0m     states\u001b[38;5;241m.\u001b[39mappend(smslState(state))\n\u001b[0;32m---> 71\u001b[0m     operations\u001b[38;5;241m.\u001b[39mextend(\n\u001b[1;32m     72\u001b[0m         smslOperation(op, state, end_state) \\\n\u001b[1;32m     73\u001b[0m             \u001b[38;5;28;01mfor\u001b[39;00m op, end_state \u001b[38;5;129;01min\u001b[39;00m ops\u001b[38;5;241m.\u001b[39mitems()\n\u001b[1;32m     74\u001b[0m     )\n\u001b[1;32m     75\u001b[0m \u001b[38;5;28mprint\u001b[39m(states)\n\u001b[1;32m     76\u001b[0m \u001b[38;5;28;01mreturn\u001b[39;00m states, operations\n",
      "File \u001b[0;32m~/Downloads/software/pysmsl/tests/smsl/../../src/smsl/smsl_json.py:72\u001b[0m, in \u001b[0;36m<genexpr>\u001b[0;34m(.0)\u001b[0m\n\u001b[1;32m     69\u001b[0m         \u001b[38;5;28;01mcontinue\u001b[39;00m\n\u001b[1;32m     70\u001b[0m     states\u001b[38;5;241m.\u001b[39mappend(smslState(state))\n\u001b[1;32m     71\u001b[0m     operations\u001b[38;5;241m.\u001b[39mextend(\n\u001b[0;32m---> 72\u001b[0m         smslOperation(op, state, end_state) \\\n\u001b[1;32m     73\u001b[0m             \u001b[38;5;28;01mfor\u001b[39;00m op, end_state \u001b[38;5;129;01min\u001b[39;00m ops\u001b[38;5;241m.\u001b[39mitems()\n\u001b[1;32m     74\u001b[0m     )\n\u001b[1;32m     75\u001b[0m \u001b[38;5;28mprint\u001b[39m(states)\n\u001b[1;32m     76\u001b[0m \u001b[38;5;28;01mreturn\u001b[39;00m states, operations\n",
      "File \u001b[0;32m~/Downloads/software/pysmsl/tests/smsl/../../src/smsl/smsl_operation.py:11\u001b[0m, in \u001b[0;36msmslOperation.__init__\u001b[0;34m(self, name, start_state, end_state)\u001b[0m\n\u001b[1;32m      7\u001b[0m \u001b[38;5;28;01mdef\u001b[39;00m \u001b[38;5;21m__init__\u001b[39m(\u001b[38;5;28mself\u001b[39m, \n\u001b[1;32m      8\u001b[0m              name : \u001b[38;5;28mstr\u001b[39m,\n\u001b[1;32m      9\u001b[0m              start_state : smslState,\n\u001b[1;32m     10\u001b[0m              end_state : smslState):\n\u001b[0;32m---> 11\u001b[0m     \u001b[38;5;28;01massert\u001b[39;00m \u001b[38;5;28misinstance\u001b[39m(start_state, smslState), \u001b[38;5;124m'\u001b[39m\u001b[38;5;124mStart state has to be smslState.\u001b[39m\u001b[38;5;124m'\u001b[39m\n\u001b[1;32m     12\u001b[0m     \u001b[38;5;28;01massert\u001b[39;00m \u001b[38;5;28misinstance\u001b[39m(end_state, smslState), \u001b[38;5;124m'\u001b[39m\u001b[38;5;124mEnd state has to be smslState.\u001b[39m\u001b[38;5;124m'\u001b[39m\n\u001b[1;32m     13\u001b[0m     \u001b[38;5;28mself\u001b[39m\u001b[38;5;241m.\u001b[39moperation_name \u001b[38;5;241m=\u001b[39m name\n",
      "\u001b[0;31mAssertionError\u001b[0m: Start state has to be smslState."
     ]
    }
   ],
   "source": [
    "import sys\n",
    "sys.path.append('../../src/smsl/')\n",
    "import smsl\n",
    "\n",
    "sm = smsl.smslStateMachine('../../examples/example.json')\n",
    "\n"
   ]
  },
  {
   "cell_type": "code",
   "execution_count": null,
   "id": "c30922fa",
   "metadata": {},
   "outputs": [],
   "source": [
    "print(['A','B'])"
   ]
  },
  {
   "cell_type": "code",
   "execution_count": null,
   "id": "39e14049",
   "metadata": {},
   "outputs": [],
   "source": [
    "sm.state_machine[0].plot_sb()"
   ]
  },
  {
   "cell_type": "code",
   "execution_count": null,
   "id": "e1ac5446",
   "metadata": {},
   "outputs": [],
   "source": []
  }
 ],
 "metadata": {
  "kernelspec": {
   "display_name": "Python 3 (ipykernel)",
   "language": "python",
   "name": "python3"
  },
  "language_info": {
   "codemirror_mode": {
    "name": "ipython",
    "version": 3
   },
   "file_extension": ".py",
   "mimetype": "text/x-python",
   "name": "python",
   "nbconvert_exporter": "python",
   "pygments_lexer": "ipython3",
   "version": "3.11.5"
  }
 },
 "nbformat": 4,
 "nbformat_minor": 5
}
